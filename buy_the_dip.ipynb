{
 "cells": [
  {
   "cell_type": "code",
   "execution_count": 17,
   "metadata": {},
   "outputs": [],
   "source": [
    "from os import environ as env\n",
    "import boto3\n",
    "import yfinance as yf\n",
    "import pandas as pd"
   ]
  },
  {
   "cell_type": "code",
   "execution_count": 37,
   "metadata": {},
   "outputs": [],
   "source": [
    "def calc_stock(high, current):\n",
    "    \"\"\"\n",
    "    :param high: float\n",
    "    :param current: float\n",
    "    :return: ratio: float\n",
    "    \"\"\"\n",
    "    ratio = (current - high) / high\n",
    "    return ratio\n",
    "\n",
    "\n",
    "def convert_tuple(tup):\n",
    "    \"\"\"\n",
    "    :param tup: tuple: tuple containing ranked pairs\n",
    "    :return: string_tup: str: stringified version of incoming tuple\n",
    "    \"\"\"\n",
    "    string_tup = \"{} : {}\".format(tup[0], str(tup[1]))\n",
    "    return string_tup\n",
    "\n",
    "\n",
    "def create_message(pairs, mode='personal'):\n",
    "    \"\"\"\n",
    "    :param pairs: dict: contains ranked pairs\n",
    "    :return: message: str: string of ranked pairs\n",
    "    \"\"\"\n",
    "    message = \"\\n\\n{} ORDERED RATIOS:\\n\\n\".format(mode.upper())\n",
    "    for pair in pairs:\n",
    "        message += convert_tuple(pair) + \"\\n\"\n",
    "    return message\n",
    "\n",
    "\n",
    "def publish_message_sns(message):\n",
    "    \"\"\"\n",
    "    :param message: str: message to be sent to SNS\n",
    "    :return: None\n",
    "    \"\"\"\n",
    "    sns_arn = env.get('SNS_ARN').strip()\n",
    "    sns_client = boto3.client('sns')\n",
    "    try:\n",
    "        response = sns_client.publish(\n",
    "            TopicArn=sns_arn,\n",
    "            Message=message\n",
    "        )\n",
    "\n",
    "        print(response)\n",
    "\n",
    "    except Exception as e:\n",
    "        print(\"ERROR PUBLISHING MESSAGE TO SNS: {}\".format(e))\n",
    "\n",
    "\n",
    "def get_data(tickers_list, period):\n",
    "    \"\"\"\n",
    "    :param tickers: str: stock ticker string\n",
    "    :param period: str: valid date period for comparison\n",
    "    :return: temp_string, delta: str, float: stock printing statements and ratio are returned\n",
    "    \"\"\"\n",
    "    pairs = dict()\n",
    "    temp_string = \"\"\n",
    "    tickers = \" \".join([x.upper() for x in tickers_list]).strip()\n",
    "    stocks = yf.Tickers(tickers)\n",
    "    data = stocks.history(env.get('PERIOD', period))\n",
    "    \n",
    "    for ticker in tickers_list:\n",
    "        close = data.Close[ticker][-1]\n",
    "        close_date = data.index[-1]\n",
    "        temp_string += \"{} Close {}: {}\\n\".format(ticker, str(close_date), str(close))\n",
    "\n",
    "        high = max(data.Close[ticker])\n",
    "        temp_string += \"{} {}-High: {}\\n\".format(ticker, env.get('PERIOD', period), str(high))\n",
    "\n",
    "        delta = calc_stock(high, close)\n",
    "        pairs[ticker] = delta\n",
    "\n",
    "        temp_string += \"{} Delta: {}\\n\".format(ticker, str(delta)) + \"\\n\"\n",
    "\n",
    "    return temp_string, pairs\n",
    "\n",
    "\n",
    "def read_tickers(mode='period', period='5y'):\n",
    "    \"\"\"\n",
    "    :param mode: str: personal will use personal_portfolio_stock_tickers.txt. Any other mode will simply use the S&P500\n",
    "    :param period: str: valid period.\n",
    "    :return: out_string,sorted(pairs.items(), key=lambda x: x[1]): str, list: string for message and sorted dict in list\n",
    "    \"\"\"\n",
    "    out_string = \"\\n\\nPERSONAL PORTFOLIO INDIVIDUAL HOLDING STATS:\\n\\n\"\n",
    "\n",
    "    if mode == 'personal':\n",
    "        tickers_list = []\n",
    "        print(\"\\nRunning program on personal portfolio with period {}...\\n\".format(period))\n",
    "        with open('deployment/personal_portfolio_stock_tickers.txt', 'r') as f:\n",
    "            while True:\n",
    "                ticker = (f.readline()).strip()\n",
    "                if ticker == \"\":\n",
    "                    break\n",
    "                tickers_list.append(ticker)\n",
    "                if not ticker:\n",
    "                    break\n",
    "\n",
    "            try:\n",
    "                temp_string, pairs = get_data(tickers_list, period)\n",
    "                out_string += temp_string\n",
    "\n",
    "            except Exception as e:\n",
    "                print(e)\n",
    "                print(\"ERROR WITH TICKER {}: {}\".format(ticker, e))\n",
    "\n",
    "    else:\n",
    "        print(\"\\nRunning program on full S&P with period {}...\\n\".format(period))\n",
    "        table = pd.read_html('https://en.wikipedia.org/wiki/List_of_S%26P_500_companies')\n",
    "        df = table[0]\n",
    "        df['Symbol'] = df['Symbol'].str.replace('.','')\n",
    "        tickers_list = df.Symbol\n",
    "        \n",
    "        try:\n",
    "            temp_string, delta = get_data(tickers_list, period)\n",
    "            out_string += temp_string\n",
    "\n",
    "        except Exception as e:\n",
    "            print(e)\n",
    "            print(\"ERROR WITH TICKER {}: {}\".format(ticker, e))\n",
    "\n",
    "    return out_string, sorted(pairs.items(), key=lambda x: x[1])\n",
    "\n",
    "\n",
    "# def handler(event, context):\n",
    "#     \"\"\"\n",
    "#     This function drives the AWS lambda. Requires 1 env var to work correctly: SNS_TOPIC which represents the topic arn\n",
    "#     to which you want to publish.\n",
    "#     \"\"\"\n",
    "#     out_string, pairs = read_tickers()\n",
    "#     message = create_message(pairs)\n",
    "#     message += out_string\n",
    "#     print(message)\n",
    "#     publish_message_sns(message)\n",
    "#     return message\n",
    "\n",
    "\n",
    "def handler():\n",
    "    \"\"\"\n",
    "    This function drives the AWS lambda. Requires 1 env var to work correctly: SNS_TOPIC which represents the topic arn to which\n",
    "    you want to publish. \n",
    "    \"\"\"\n",
    "    personal_string, personal_pairs = read_tickers(mode='personal', period='5d')\n",
    "    message = create_message(personal_pairs, mode='personal')\n",
    "    message += personal_string + \"\\n\\n––––––––––––––––––––––––––––––––––––––––––––––––––––––––––––––––––––––––––––––––\\n\\n\"\n",
    "    \n",
    "    snp_string, snp_pairs = read_tickers(mode='S&P', period='5d')\n",
    "    message += create_message(snp_pairs, 'S&P')\n",
    "    \n",
    "    print(message)\n",
    "    \n",
    "#     publish_message_sns(message)\n"
   ]
  },
  {
   "cell_type": "code",
   "execution_count": 38,
   "metadata": {},
   "outputs": [
    {
     "name": "stdout",
     "output_type": "stream",
     "text": [
      "\n",
      "Running program on personal portfolio with period 5d...\n",
      "\n",
      "[*********************100%***********************]  59 of 59 completed\n",
      "\n",
      "Running program on full S&P with period 10d...\n",
      "\n",
      "[*********************100%***********************]  505 of 505 completed\n"
     ]
    },
    {
     "ename": "UnboundLocalError",
     "evalue": "local variable 'pairs' referenced before assignment",
     "output_type": "error",
     "traceback": [
      "\u001b[0;31m---------------------------------------------------------------------------\u001b[0m",
      "\u001b[0;31mUnboundLocalError\u001b[0m                         Traceback (most recent call last)",
      "\u001b[0;32m<ipython-input-38-987babb44561>\u001b[0m in \u001b[0;36m<module>\u001b[0;34m\u001b[0m\n\u001b[0;32m----> 1\u001b[0;31m \u001b[0mhandler\u001b[0m\u001b[0;34m(\u001b[0m\u001b[0;34m)\u001b[0m\u001b[0;34m\u001b[0m\u001b[0;34m\u001b[0m\u001b[0m\n\u001b[0m",
      "\u001b[0;32m<ipython-input-37-bd8a0d6798e5>\u001b[0m in \u001b[0;36mhandler\u001b[0;34m()\u001b[0m\n\u001b[1;32m    144\u001b[0m     \u001b[0mmessage\u001b[0m \u001b[0;34m+=\u001b[0m \u001b[0mpersonal_string\u001b[0m \u001b[0;34m+\u001b[0m \u001b[0;34m\"\\n\\n––––––––––––––––––––––––––––––––––––––––––––––––––––––––––––––––––––––––––––––––\\n\\n\"\u001b[0m\u001b[0;34m\u001b[0m\u001b[0;34m\u001b[0m\u001b[0m\n\u001b[1;32m    145\u001b[0m \u001b[0;34m\u001b[0m\u001b[0m\n\u001b[0;32m--> 146\u001b[0;31m     \u001b[0msnp_string\u001b[0m\u001b[0;34m,\u001b[0m \u001b[0msnp_pairs\u001b[0m \u001b[0;34m=\u001b[0m \u001b[0mread_tickers\u001b[0m\u001b[0;34m(\u001b[0m\u001b[0mmode\u001b[0m\u001b[0;34m=\u001b[0m\u001b[0;34m'S&P'\u001b[0m\u001b[0;34m,\u001b[0m \u001b[0mperiod\u001b[0m\u001b[0;34m=\u001b[0m\u001b[0;34m'10d'\u001b[0m\u001b[0;34m)\u001b[0m\u001b[0;34m\u001b[0m\u001b[0;34m\u001b[0m\u001b[0m\n\u001b[0m\u001b[1;32m    147\u001b[0m     \u001b[0mmessage\u001b[0m \u001b[0;34m+=\u001b[0m \u001b[0mcreate_message\u001b[0m\u001b[0;34m(\u001b[0m\u001b[0msnp_pairs\u001b[0m\u001b[0;34m,\u001b[0m \u001b[0;34m'S&P'\u001b[0m\u001b[0;34m)\u001b[0m\u001b[0;34m\u001b[0m\u001b[0;34m\u001b[0m\u001b[0m\n\u001b[1;32m    148\u001b[0m \u001b[0;34m\u001b[0m\u001b[0m\n",
      "\u001b[0;32m<ipython-input-37-bd8a0d6798e5>\u001b[0m in \u001b[0;36mread_tickers\u001b[0;34m(mode, period)\u001b[0m\n\u001b[1;32m    119\u001b[0m             \u001b[0mprint\u001b[0m\u001b[0;34m(\u001b[0m\u001b[0;34m\"ERROR WITH TICKER {}: {}\"\u001b[0m\u001b[0;34m.\u001b[0m\u001b[0mformat\u001b[0m\u001b[0;34m(\u001b[0m\u001b[0mticker\u001b[0m\u001b[0;34m,\u001b[0m \u001b[0me\u001b[0m\u001b[0;34m)\u001b[0m\u001b[0;34m)\u001b[0m\u001b[0;34m\u001b[0m\u001b[0;34m\u001b[0m\u001b[0m\n\u001b[1;32m    120\u001b[0m \u001b[0;34m\u001b[0m\u001b[0m\n\u001b[0;32m--> 121\u001b[0;31m     \u001b[0;32mreturn\u001b[0m \u001b[0mout_string\u001b[0m\u001b[0;34m,\u001b[0m \u001b[0msorted\u001b[0m\u001b[0;34m(\u001b[0m\u001b[0mpairs\u001b[0m\u001b[0;34m.\u001b[0m\u001b[0mitems\u001b[0m\u001b[0;34m(\u001b[0m\u001b[0;34m)\u001b[0m\u001b[0;34m,\u001b[0m \u001b[0mkey\u001b[0m\u001b[0;34m=\u001b[0m\u001b[0;32mlambda\u001b[0m \u001b[0mx\u001b[0m\u001b[0;34m:\u001b[0m \u001b[0mx\u001b[0m\u001b[0;34m[\u001b[0m\u001b[0;36m1\u001b[0m\u001b[0;34m]\u001b[0m\u001b[0;34m)\u001b[0m\u001b[0;34m\u001b[0m\u001b[0;34m\u001b[0m\u001b[0m\n\u001b[0m\u001b[1;32m    122\u001b[0m \u001b[0;34m\u001b[0m\u001b[0m\n\u001b[1;32m    123\u001b[0m \u001b[0;34m\u001b[0m\u001b[0m\n",
      "\u001b[0;31mUnboundLocalError\u001b[0m: local variable 'pairs' referenced before assignment"
     ]
    }
   ],
   "source": [
    "handler()"
   ]
  },
  {
   "cell_type": "code",
   "execution_count": 33,
   "metadata": {},
   "outputs": [
    {
     "name": "stdout",
     "output_type": "stream",
     "text": [
      "[*********************100%***********************]  2 of 2 completed\n"
     ]
    }
   ],
   "source": [
    "stocks = yf.Tickers(\"AAPL BRKB\")\n",
    "data = stocks.history('1d')"
   ]
  },
  {
   "cell_type": "code",
   "execution_count": 34,
   "metadata": {},
   "outputs": [
    {
     "name": "stdout",
     "output_type": "stream",
     "text": [
      "                  AAPL        BRKB\n",
      "Date                              \n",
      "2020-04-21  268.369995  183.479996\n"
     ]
    }
   ],
   "source": [
    "print(data.Close)"
   ]
  },
  {
   "cell_type": "code",
   "execution_count": 7,
   "metadata": {},
   "outputs": [
    {
     "data": {
      "text/plain": [
       "269.48260498046875"
      ]
     },
     "execution_count": 7,
     "metadata": {},
     "output_type": "execute_result"
    }
   ],
   "source": [
    "data.Close['AAPL'][-1]"
   ]
  },
  {
   "cell_type": "code",
   "execution_count": null,
   "metadata": {},
   "outputs": [],
   "source": []
  },
  {
   "cell_type": "code",
   "execution_count": null,
   "metadata": {},
   "outputs": [],
   "source": []
  }
 ],
 "metadata": {
  "kernelspec": {
   "display_name": "Python 3",
   "language": "python",
   "name": "python3"
  },
  "language_info": {
   "codemirror_mode": {
    "name": "ipython",
    "version": 3
   },
   "file_extension": ".py",
   "mimetype": "text/x-python",
   "name": "python",
   "nbconvert_exporter": "python",
   "pygments_lexer": "ipython3",
   "version": "3.7.3"
  }
 },
 "nbformat": 4,
 "nbformat_minor": 2
}
