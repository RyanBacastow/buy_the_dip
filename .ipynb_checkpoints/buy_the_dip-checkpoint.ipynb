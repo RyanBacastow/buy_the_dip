{
 "cells": [
  {
   "cell_type": "code",
   "execution_count": 3,
   "metadata": {},
   "outputs": [],
   "source": [
    "import yfinance as yf"
   ]
  },
  {
   "cell_type": "code",
   "execution_count": 4,
   "metadata": {},
   "outputs": [],
   "source": [
    "def calc_stock(high, current):\n",
    "    return (current - high)/high\n",
    "\n",
    "def read_tickers(file='stock_tickers.txt'):\n",
    "      \n",
    "    pairs = dict()\n",
    "\n",
    "    with open(file, 'r') as f:\n",
    "        while True:\n",
    "            # Get next line from file \n",
    "            ticker = (f.readline()).strip()\n",
    "            \n",
    "            if ticker == \"\":\n",
    "                break\n",
    "\n",
    "            stock = yf.Ticker(ticker)\n",
    "            data = stock.history('1y')\n",
    "            \n",
    "            close = data.Close[-1]\n",
    "            high = max(data.Close)\n",
    "            \n",
    "            delta = calc_stock(high, close)\n",
    " \n",
    "            pairs[ticker] = delta\n",
    "\n",
    "            if not ticker:\n",
    "                break\n",
    "        \n",
    "    return(sorted(pairs.items(), key=lambda x: x[1]))"
   ]
  },
  {
   "cell_type": "code",
   "execution_count": 5,
   "metadata": {},
   "outputs": [
    {
     "data": {
      "text/plain": [
       "[('UCO', -0.948176583493282),\n",
       " ('COF', -0.49346497414198404),\n",
       " ('WFC', -0.4863611059565782),\n",
       " ('C', -0.45913727417967315),\n",
       " ('AXP', -0.3830505985165601),\n",
       " ('BAC', -0.3645862750635413),\n",
       " ('JPM', -0.3390270270270271)]"
      ]
     },
     "execution_count": 5,
     "metadata": {},
     "output_type": "execute_result"
    }
   ],
   "source": [
    "read_tickers()"
   ]
  },
  {
   "cell_type": "code",
   "execution_count": 85,
   "metadata": {},
   "outputs": [
    {
     "data": {
      "text/plain": [
       "[('UCO', -0.948176583493282),\n",
       " ('COF', -0.49346497414198404),\n",
       " ('WFC', -0.4863611059565782),\n",
       " ('C', -0.45913727417967315),\n",
       " ('AXP', -0.3830505985165601),\n",
       " ('BAC', -0.3645862750635413),\n",
       " ('JPM', -0.3390270270270271)]"
      ]
     },
     "execution_count": 85,
     "metadata": {},
     "output_type": "execute_result"
    }
   ],
   "source": [
    "d = read_tickers()\n",
    "sorted(d.items(), key=lambda x: x[1])"
   ]
  }
 ],
 "metadata": {
  "kernelspec": {
   "display_name": "Python 3",
   "language": "python",
   "name": "python3"
  },
  "language_info": {
   "codemirror_mode": {
    "name": "ipython",
    "version": 3
   },
   "file_extension": ".py",
   "mimetype": "text/x-python",
   "name": "python",
   "nbconvert_exporter": "python",
   "pygments_lexer": "ipython3",
   "version": "3.7.3"
  }
 },
 "nbformat": 4,
 "nbformat_minor": 2
}
