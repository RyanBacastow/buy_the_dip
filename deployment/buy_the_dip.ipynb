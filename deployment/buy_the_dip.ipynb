{
 "cells": [
  {
   "cell_type": "code",
   "execution_count": 15,
   "metadata": {},
   "outputs": [],
   "source": [
    "import yfinance as yf\n",
    "import boto\n",
    "from os import environ as env"
   ]
  },
  {
   "cell_type": "code",
   "execution_count": 16,
   "metadata": {},
   "outputs": [],
   "source": [
    "\n",
    "def calc_stock(high, current):\n",
    "    return (current - high)/high\n",
    "\n",
    "\n",
    "def convert_tuple(tup): \n",
    "    string_tup =  \"{} : {}\".format(tup[0], str(tup[1]))\n",
    "    return string_tup\n",
    "\n",
    "\n",
    "def create_message(pairs):\n",
    "    message = \"Ordered Portfolio:\\n\"\n",
    "    for pair in d:\n",
    "        message += convert_tuple(pair) + \"\\n\"\n",
    "    \n",
    "    \n",
    "def publish_message_sns(message):\n",
    "    sns_arn = env.get('SNS_ARN').strip()\n",
    "    sns_client = boto3.client('sns')\n",
    "    try:\n",
    "        print(message)\n",
    "\n",
    "        response = sns_client.publish(\n",
    "            TopicArn=sns_arn,\n",
    "            Message=message\n",
    "        )\n",
    "\n",
    "        print(response)\n",
    "\n",
    "    except Exception as e:\n",
    "        print(\"ERROR PUBLISHING MESSAGE TO SNS: {}\".format(e))\n",
    "\n",
    "\n",
    "def read_tickers(file='stock_tickers.txt'):\n",
    "      \n",
    "    pairs = dict()\n",
    "\n",
    "    with open(file, 'r') as f:\n",
    "        while True:\n",
    "            # Get next line from file \n",
    "            ticker = (f.readline()).strip()\n",
    "            \n",
    "            if ticker == \"\":\n",
    "                break\n",
    "\n",
    "            stock = yf.Ticker(ticker)\n",
    "            data = stock.history('5y')\n",
    "            \n",
    "            close = data.Close[-1]\n",
    "            high = max(data.Close)\n",
    "            \n",
    "            delta = calc_stock(high, close)\n",
    " \n",
    "            pairs[ticker] = delta\n",
    "\n",
    "            if not ticker:\n",
    "                break\n",
    "        \n",
    "    return(sorted(pairs.items(), key=lambda x: x[1]))\n",
    "\n",
    "\n",
    "def handler():\n",
    "    pairs = read_tickers()\n",
    "    messsage = create_message(pairs)\n",
    "    print(message)\n",
    "    #AWS LIVE VERSION ONLY:\n",
    "    #publish_message_sns(message)\n",
    "    "
   ]
  },
  {
   "cell_type": "code",
   "execution_count": 17,
   "metadata": {},
   "outputs": [
    {
     "name": "stdout",
     "output_type": "stream",
     "text": [
      "Ordered Portfolio:\n",
      "\n",
      "UCO : -0.948176583493282\n",
      "COF : -0.49346497414198404\n",
      "WFC : -0.4863611059565782\n",
      "C : -0.45913727417967315\n",
      "AXP : -0.3830505985165601\n",
      "BAC : -0.3645862750635413\n",
      "JPM : -0.3390270270270271\n"
     ]
    }
   ],
   "source": [
    "handler()"
   ]
  }
 ],
 "metadata": {
  "kernelspec": {
   "display_name": "Python 3",
   "language": "python",
   "name": "python3"
  },
  "language_info": {
   "codemirror_mode": {
    "name": "ipython",
    "version": 3
   },
   "file_extension": ".py",
   "mimetype": "text/x-python",
   "name": "python",
   "nbconvert_exporter": "python",
   "pygments_lexer": "ipython3",
   "version": "3.7.3"
  }
 },
 "nbformat": 4,
 "nbformat_minor": 2
}
